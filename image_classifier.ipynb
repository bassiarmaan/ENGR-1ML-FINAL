{
 "cells": [
  {
   "cell_type": "code",
   "execution_count": 1,
   "metadata": {},
   "outputs": [],
   "source": [
    "# Importing the required libraries\n",
    "import tensorflow as tf\n",
    "from tensorflow.keras.datasets import mnist\n",
    "import torch\n",
    "import torch.nn as nn\n",
    "import torch.optim as optim\n",
    "from torchvision import datasets, transforms\n",
    "from torch.utils.data import DataLoader\n",
    "\n",
    "from model import SimpleNN\n",
    "from util import training_loop, show_images\n",
    "from cnn import CNN         # Class that I defined of a Convolutional Neural Network"
   ]
  },
  {
   "cell_type": "markdown",
   "metadata": {},
   "source": [
    "## Loading the data"
   ]
  },
  {
   "cell_type": "code",
   "execution_count": 2,
   "metadata": {},
   "outputs": [],
   "source": [
    "# Load MNIST dataset (TensorFlow/Keras)\n",
    "#(x_train, y_train), (x_test, y_test) = mnist.load_data()"
   ]
  },
  {
   "cell_type": "code",
   "execution_count": 3,
   "metadata": {},
   "outputs": [],
   "source": [
    "# Define transformations for the MNIST dataset\n",
    "transform = transforms.Compose([\n",
    "    transforms.ToTensor(),\n",
    "    transforms.Normalize((0.5,), (0.5,))  # Normalize the images to the range [-1, 1]\n",
    "])\n",
    "\n",
    "# Load the MNIST dataset\n",
    "train_data = datasets.MNIST(root='./data', train=True, download=True, transform=transform)\n",
    "test_data = datasets.MNIST(root='./data', train=False, download=True, transform=transform)\n",
    "\n",
    "train_loader = DataLoader(train_data, batch_size=64, shuffle=True)\n",
    "test_loader = DataLoader(test_data, batch_size=64, shuffle=False)"
   ]
  },
  {
   "cell_type": "markdown",
   "metadata": {},
   "source": [
    "Note: Running the above cell will create a new folder called 'data' in your working directory.\n",
    "Let's visualize the images. (Defined a function called `show_images` in `util.py`)"
   ]
  },
  {
   "cell_type": "code",
   "execution_count": 5,
   "metadata": {},
   "outputs": [],
   "source": [
    "#show_images(train_dataset)"
   ]
  },
  {
   "cell_type": "markdown",
   "metadata": {},
   "source": [
    "## Calling the Model\n",
    "\n",
    "The model architecture is defined in `model.py`, and the code below trains and tests the models."
   ]
  },
  {
   "cell_type": "code",
   "execution_count": null,
   "metadata": {},
   "outputs": [],
   "source": [
    "# Calling the model from model.py\n"
   ]
  },
  {
   "cell_type": "markdown",
   "metadata": {},
   "source": [
    "Next steps:\n",
    "1. Train the model (change architecture)\n",
    "2. Hyperparameter finetuning (plot some graphs of different hyperparams vs time) and choose the final model on the validation set\n",
    "3. Setup a framework (use `utils.py`) to import images from a different source (e.g manually imported images), and convert them to the required format to be fed into the model\n",
    "4. If you want to be fancy setup a fancy interface for it (some frontend stuff?)\n",
    "5. Create a requirements.txt file (generate automatically)"
   ]
  },
  {
   "cell_type": "markdown",
   "metadata": {},
   "source": [
    "## Convolutional Neural Network\n",
    "\n",
    "Research has shown that Convolutional Neural Networks are very good at dealing with image data because they are designed to capture spatial hierarchies adn patterns, which are crucial for understanding visual data. \n",
    "\n",
    "1. **Local Receptive Fields**: CNNs use small filters (kernels) that focus on local regions of an image. These filters help the network detect simple features like edges, corners or textures in small regions of the image. As the network deepends, it can combine these simple features to identify more complex patterns, such as shapes or objects. \n",
    "2. **Weight Sharing**: In CNNs, the same filter (set of weights) is used across different parts of an image. This weight sharing reduces the number of parameters in the model, making ti computationally efficient and allowing the network to generalize better across various positions in an image. \n",
    "\n",
    "### Loss Function\n",
    "Cross Entropy loss is well suited for the MNIST dataset because it is designed for multi-class classification, where the goal is to predict one of the several classes (0-9). It pairs well with the softmax activation function, which outputs a probability distribution, and penalizes incorrect predictions by encouraging high confidence in the correct class. "
   ]
  },
  {
   "cell_type": "code",
   "execution_count": 6,
   "metadata": {},
   "outputs": [],
   "source": [
    "# Use the model architecture defined in the file cnn.py to train the model. \n",
    "# Use the same split of training data taken above.\n",
    "\n",
    "# Hyperparameters\n",
    "learning_rate = 0.001\n",
    "\n",
    "#Initialize the model, loss function and optimizer\n",
    "cnn_model = CNN()\n",
    "criterion = nn.CrossEntropyLoss()\n",
    "optimizer = optim.Adam(cnn_model.parameters(), lr=learning_rate)"
   ]
  },
  {
   "cell_type": "code",
   "execution_count": 7,
   "metadata": {},
   "outputs": [
    {
     "name": "stdout",
     "output_type": "stream",
     "text": [
      "Epoch [1/5], Loss: 0.1746, Accuracy: 94.72%\n",
      "Epoch [2/5], Loss: 0.0517, Accuracy: 98.43%\n",
      "Epoch [3/5], Loss: 0.0363, Accuracy: 98.85%\n",
      "Epoch [4/5], Loss: 0.0280, Accuracy: 99.12%\n",
      "Epoch [5/5], Loss: 0.0211, Accuracy: 99.31%\n"
     ]
    }
   ],
   "source": [
    "# Training loop\n",
    "\n",
    "num_epochs = 5\n",
    "\n",
    "for epoch in range(num_epochs):\n",
    "    cnn_model.train()\n",
    "    running_loss = 0.0\n",
    "    correct = 0\n",
    "    total = 0\n",
    "\n",
    "    for images, labels in train_loader:\n",
    "        optimizer.zero_grad()\n",
    "\n",
    "        outputs = cnn_model(images)             # Forward pass\n",
    "        loss = criterion(outputs, labels)       # Compute the loss\n",
    "        loss.backward()                         # Backward pass and optimize\n",
    "        optimizer.step()\n",
    "\n",
    "        running_loss += loss.item()\n",
    "        _, predicted = torch.max(outputs.data, 1)\n",
    "\n",
    "        total += labels.size(0)\n",
    "        correct += (predicted == labels).sum().item()\n",
    "    print(f'Epoch [{epoch+1}/{num_epochs}], Loss: {running_loss/len(train_loader):.4f}, Accuracy: {100 * correct/total:.2f}%')"
   ]
  },
  {
   "cell_type": "code",
   "execution_count": 8,
   "metadata": {},
   "outputs": [
    {
     "name": "stdout",
     "output_type": "stream",
     "text": [
      "Test Accuracy: 98.83%\n"
     ]
    }
   ],
   "source": [
    "# Testing the model\n",
    "cnn_model.eval()\n",
    "correct = 0\n",
    "total = 0\n",
    "with torch.no_grad():\n",
    "    for images, labels in test_loader:\n",
    "        outputs = cnn_model(images)\n",
    "        _, predicted = torch.max(outputs.data, 1)\n",
    "        total += labels.size(0)\n",
    "        correct += (predicted == labels).sum().item()\n",
    "print(f'Test Accuracy: {100 * correct / total:.2f}%')"
   ]
  },
  {
   "cell_type": "code",
   "execution_count": 9,
   "metadata": {},
   "outputs": [],
   "source": [
    "# Save the trained model\n",
    "torch.save(cnn_model.state_dict(), 'mnist_cnn.pth')"
   ]
  },
  {
   "cell_type": "markdown",
   "metadata": {},
   "source": [
    "## Loading the model from a saved file\n",
    "\n",
    "Run the code cells below once the model has already been trained and exported to a `.pth` file. \n",
    "This code will load the model from the file and run it on a sample of the MNIST dataset and print out the dataset and the predicted labels."
   ]
  },
  {
   "cell_type": "code",
   "execution_count": 10,
   "metadata": {},
   "outputs": [
    {
     "data": {
      "text/plain": [
       "CNN(\n",
       "  (conv1): Conv2d(1, 32, kernel_size=(3, 3), stride=(1, 1), padding=(1, 1))\n",
       "  (conv2): Conv2d(32, 64, kernel_size=(3, 3), stride=(1, 1), padding=(1, 1))\n",
       "  (fc1): Linear(in_features=3136, out_features=64, bias=True)\n",
       "  (fc2): Linear(in_features=64, out_features=10, bias=True)\n",
       ")"
      ]
     },
     "execution_count": 10,
     "metadata": {},
     "output_type": "execute_result"
    }
   ],
   "source": [
    "file_path = 'mnist_cnn.pth' #Replace this with the appropriate file name\n",
    "pretrained_model = CNN()\n",
    "pretrained_model.load_state_dict(torch.load(file_path))\n",
    "pretrained_model.eval()"
   ]
  },
  {
   "cell_type": "code",
   "execution_count": 16,
   "metadata": {},
   "outputs": [
    {
     "data": {
      "image/png": "[encoded data removed]",
      "text/plain": [
       "<Figure size 300x300 with 1 Axes>"
      ]
     },
     "metadata": {},
     "output_type": "display_data"
    },
    {
     "name": "stdout",
     "output_type": "stream",
     "text": [
      "True Label: 8, Predicted Label: 8\n"
     ]
    },
    {
     "data": {
      "image/png": "[encoded data removed]",
      "text/plain": [
       "<Figure size 300x300 with 1 Axes>"
      ]
     },
     "metadata": {},
     "output_type": "display_data"
    },
    {
     "name": "stdout",
     "output_type": "stream",
     "text": [
      "True Label: 3, Predicted Label: 2\n"
     ]
    },
    {
     "data": {
      "image/png": "[encoded data removed]",
      "text/plain": [
       "<Figure size 300x300 with 1 Axes>"
      ]
     },
     "metadata": {},
     "output_type": "display_data"
    },
    {
     "name": "stdout",
     "output_type": "stream",
     "text": [
      "True Label: 4, Predicted Label: 9\n"
     ]
    },
    {
     "data": {
      "image/png": "[encoded data removed]",
      "text/plain": [
       "<Figure size 300x300 with 1 Axes>"
      ]
     },
     "metadata": {},
     "output_type": "display_data"
    },
    {
     "name": "stdout",
     "output_type": "stream",
     "text": [
      "True Label: 3, Predicted Label: 3\n"
     ]
    },
    {
     "data": {
      "image/png": "[encoded data removed]",
      "text/plain": [
       "<Figure size 300x300 with 1 Axes>"
      ]
     },
     "metadata": {},
     "output_type": "display_data"
    },
    {
     "name": "stdout",
     "output_type": "stream",
     "text": [
      "True Label: 6, Predicted Label: 6\n"
     ]
    }
   ],
   "source": [
    "# Taking a random sample from the test dataset\n",
    "import random\n",
    "import matplotlib.pyplot as plt\n",
    "\n",
    "random_indexes = [random.randint(0, len(test_data)-1) for _ in range(5)]\n",
    "for random_idx in random_indexes:\n",
    "    image, label = test_data[random_idx]\n",
    "\n",
    "    # Display the image and tis label\n",
    "    image = image.squeeze()\n",
    "    plt.figure(figsize=(3, 3))  # Adjust the size as needed\n",
    "    plt.imshow(image, cmap='gray')\n",
    "    plt.title(f\"Label: {label}\")\n",
    "    plt.show()\n",
    "\n",
    "    # Optionally, print the label and its predicted value from the model\n",
    "    image = image.unsqueeze(0)  # Add batch dimension\n",
    "    with torch.no_grad():\n",
    "        output = pretrained_model(image)  # Forward pass through the model\n",
    "        _, predicted = torch.max(output.data, 1)  # Get the predicted label\n",
    "\n",
    "    print(f\"True Label: {label}, Predicted Label: {predicted.item()}\")"
   ]
  }
 ],
 "metadata": {
  "kernelspec": {
   "display_name": "venv",
   "language": "python",
   "name": "python3"
  },
  "language_info": {
   "codemirror_mode": {
    "name": "ipython",
    "version": 3
   },
   "file_extension": ".py",
   "mimetype": "text/x-python",
   "name": "python",
   "nbconvert_exporter": "python",
   "pygments_lexer": "ipython3",
   "version": "3.11.9"
  }
 },
 "nbformat": 4,
 "nbformat_minor": 2
}
