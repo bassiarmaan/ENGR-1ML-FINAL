{
 "cells": [
  {
   "cell_type": "markdown",
   "metadata": {},
   "source": [
    "### Testing utility functions\n",
    "\n",
    "Contains code to test the utilty functions written for the webapp.\n"
   ]
  },
  {
   "cell_type": "code",
   "execution_count": 1,
   "metadata": {},
   "outputs": [],
   "source": [
    "from app_util import transform_image"
   ]
  },
  {
   "cell_type": "code",
   "execution_count": 7,
   "metadata": {},
   "outputs": [
    {
     "data": {
      "image/png": "[encoded data removed]",
      "text/plain": [
       "<Figure size 640x480 with 1 Axes>"
      ]
     },
     "metadata": {},
     "output_type": "display_data"
    }
   ],
   "source": [
    "# Testing the function to convert images to grayscale & 32x32 pixels compatible with MNIST dataset\n",
    "# testing transform_image()\n",
    "\n",
    "image_path = 'sample_data\\sample8.jpeg' # ADD HERE\n",
    "transformed_image = transform_image(image_path, display=True)"
   ]
  },
  {
   "cell_type": "code",
   "execution_count": 9,
   "metadata": {},
   "outputs": [
    {
     "data": {
      "text/plain": [
       "5"
      ]
     },
     "execution_count": 9,
     "metadata": {},
     "output_type": "execute_result"
    }
   ],
   "source": [
    "# Code to test the function that predicts the digit given the image array\n",
    "# Testing predict_digit()\n",
    "\n",
    "from app_util import predict_digit\n",
    "from cnn import CNN\n",
    "import torch\n",
    "\n",
    "#Loading the model\n",
    "file_path = 'mnist_cnn.pth' #Replace this with the appropriate file name\n",
    "pretrained_model = CNN()\n",
    "pretrained_model.load_state_dict(torch.load(file_path))\n",
    "pretrained_model.eval()\n",
    "\n",
    "predict_digit(pretrained_model, transformed_image)"
   ]
  }
 ],
 "metadata": {
  "kernelspec": {
   "display_name": "venv",
   "language": "python",
   "name": "python3"
  },
  "language_info": {
   "codemirror_mode": {
    "name": "ipython",
    "version": 3
   },
   "file_extension": ".py",
   "mimetype": "text/x-python",
   "name": "python",
   "nbconvert_exporter": "python",
   "pygments_lexer": "ipython3",
   "version": "3.11.9"
  }
 },
 "nbformat": 4,
 "nbformat_minor": 2
}
